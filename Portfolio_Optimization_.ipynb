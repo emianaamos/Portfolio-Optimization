{
  "nbformat": 4,
  "nbformat_minor": 0,
  "metadata": {
    "colab": {
      "name": "Portfolio Optimization .ipynb",
      "provenance": [],
      "collapsed_sections": [],
      "authorship_tag": "ABX9TyPV3oGdoPz3mObC46T6TdjJ",
      "include_colab_link": true
    },
    "kernelspec": {
      "name": "python3",
      "display_name": "Python 3"
    },
    "language_info": {
      "name": "python"
    }
  },
  "cells": [
    {
      "cell_type": "markdown",
      "metadata": {
        "id": "view-in-github",
        "colab_type": "text"
      },
      "source": [
        "<a href=\"https://colab.research.google.com/github/emianaamos/Portfolio-Optimization/blob/main/Portfolio_Optimization_.ipynb\" target=\"_parent\"><img src=\"https://colab.research.google.com/assets/colab-badge.svg\" alt=\"Open In Colab\"/></a>"
      ]
    },
    {
      "cell_type": "code",
      "metadata": {
        "colab": {
          "base_uri": "https://localhost:8080/"
        },
        "id": "Pf65HmNspkW3",
        "outputId": "fef3f655-7b9c-4900-ccb2-fc73df5a350e"
      },
      "source": [
        "pip install pandas_datareader"
      ],
      "execution_count": 1,
      "outputs": [
        {
          "output_type": "stream",
          "text": [
            "Requirement already satisfied: pandas_datareader in /usr/local/lib/python3.7/dist-packages (0.9.0)\n",
            "Requirement already satisfied: pandas>=0.23 in /usr/local/lib/python3.7/dist-packages (from pandas_datareader) (1.1.5)\n",
            "Requirement already satisfied: lxml in /usr/local/lib/python3.7/dist-packages (from pandas_datareader) (4.2.6)\n",
            "Requirement already satisfied: requests>=2.19.0 in /usr/local/lib/python3.7/dist-packages (from pandas_datareader) (2.23.0)\n",
            "Requirement already satisfied: numpy>=1.15.4 in /usr/local/lib/python3.7/dist-packages (from pandas>=0.23->pandas_datareader) (1.19.5)\n",
            "Requirement already satisfied: pytz>=2017.2 in /usr/local/lib/python3.7/dist-packages (from pandas>=0.23->pandas_datareader) (2018.9)\n",
            "Requirement already satisfied: python-dateutil>=2.7.3 in /usr/local/lib/python3.7/dist-packages (from pandas>=0.23->pandas_datareader) (2.8.1)\n",
            "Requirement already satisfied: six>=1.5 in /usr/local/lib/python3.7/dist-packages (from python-dateutil>=2.7.3->pandas>=0.23->pandas_datareader) (1.15.0)\n",
            "Requirement already satisfied: chardet<4,>=3.0.2 in /usr/local/lib/python3.7/dist-packages (from requests>=2.19.0->pandas_datareader) (3.0.4)\n",
            "Requirement already satisfied: certifi>=2017.4.17 in /usr/local/lib/python3.7/dist-packages (from requests>=2.19.0->pandas_datareader) (2021.5.30)\n",
            "Requirement already satisfied: idna<3,>=2.5 in /usr/local/lib/python3.7/dist-packages (from requests>=2.19.0->pandas_datareader) (2.10)\n",
            "Requirement already satisfied: urllib3!=1.25.0,!=1.25.1,<1.26,>=1.21.1 in /usr/local/lib/python3.7/dist-packages (from requests>=2.19.0->pandas_datareader) (1.24.3)\n"
          ],
          "name": "stdout"
        }
      ]
    },
    {
      "cell_type": "code",
      "metadata": {
        "colab": {
          "base_uri": "https://localhost:8080/"
        },
        "id": "RAyGGr6myBBo",
        "outputId": "56144d32-61a2-4120-bd68-ad9c3c414bc3"
      },
      "source": [
        "pip install yfinance\n"
      ],
      "execution_count": 25,
      "outputs": [
        {
          "output_type": "stream",
          "text": [
            "Collecting yfinance\n",
            "  Downloading yfinance-0.1.63.tar.gz (26 kB)\n",
            "Requirement already satisfied: pandas>=0.24 in /usr/local/lib/python3.7/dist-packages (from yfinance) (1.1.5)\n",
            "Requirement already satisfied: numpy>=1.15 in /usr/local/lib/python3.7/dist-packages (from yfinance) (1.19.5)\n",
            "Requirement already satisfied: requests>=2.20 in /usr/local/lib/python3.7/dist-packages (from yfinance) (2.23.0)\n",
            "Requirement already satisfied: multitasking>=0.0.7 in /usr/local/lib/python3.7/dist-packages (from yfinance) (0.0.9)\n",
            "Collecting lxml>=4.5.1\n",
            "  Downloading lxml-4.6.3-cp37-cp37m-manylinux2014_x86_64.whl (6.3 MB)\n",
            "\u001b[K     |████████████████████████████████| 6.3 MB 12.9 MB/s \n",
            "\u001b[?25hRequirement already satisfied: pytz>=2017.2 in /usr/local/lib/python3.7/dist-packages (from pandas>=0.24->yfinance) (2018.9)\n",
            "Requirement already satisfied: python-dateutil>=2.7.3 in /usr/local/lib/python3.7/dist-packages (from pandas>=0.24->yfinance) (2.8.1)\n",
            "Requirement already satisfied: six>=1.5 in /usr/local/lib/python3.7/dist-packages (from python-dateutil>=2.7.3->pandas>=0.24->yfinance) (1.15.0)\n",
            "Requirement already satisfied: certifi>=2017.4.17 in /usr/local/lib/python3.7/dist-packages (from requests>=2.20->yfinance) (2021.5.30)\n",
            "Requirement already satisfied: idna<3,>=2.5 in /usr/local/lib/python3.7/dist-packages (from requests>=2.20->yfinance) (2.10)\n",
            "Requirement already satisfied: chardet<4,>=3.0.2 in /usr/local/lib/python3.7/dist-packages (from requests>=2.20->yfinance) (3.0.4)\n",
            "Requirement already satisfied: urllib3!=1.25.0,!=1.25.1,<1.26,>=1.21.1 in /usr/local/lib/python3.7/dist-packages (from requests>=2.20->yfinance) (1.24.3)\n",
            "Building wheels for collected packages: yfinance\n",
            "  Building wheel for yfinance (setup.py) ... \u001b[?25l\u001b[?25hdone\n",
            "  Created wheel for yfinance: filename=yfinance-0.1.63-py2.py3-none-any.whl size=23919 sha256=fe1baffbb1f96a5a702205675ab38f6208b6ecde4d72f014236bc884fe511169\n",
            "  Stored in directory: /root/.cache/pip/wheels/fe/87/8b/7ec24486e001d3926537f5f7801f57a74d181be25b11157983\n",
            "Successfully built yfinance\n",
            "Installing collected packages: lxml, yfinance\n",
            "  Attempting uninstall: lxml\n",
            "    Found existing installation: lxml 4.2.6\n",
            "    Uninstalling lxml-4.2.6:\n",
            "      Successfully uninstalled lxml-4.2.6\n",
            "Successfully installed lxml-4.6.3 yfinance-0.1.63\n",
            "Requirement already satisfied: yfinance in /usr/local/lib/python3.7/dist-packages (0.1.63)\n",
            "Requirement already satisfied: multitasking>=0.0.7 in /usr/local/lib/python3.7/dist-packages (from yfinance) (0.0.9)\n",
            "Requirement already satisfied: numpy>=1.15 in /usr/local/lib/python3.7/dist-packages (from yfinance) (1.19.5)\n",
            "Requirement already satisfied: requests>=2.20 in /usr/local/lib/python3.7/dist-packages (from yfinance) (2.23.0)\n",
            "Requirement already satisfied: pandas>=0.24 in /usr/local/lib/python3.7/dist-packages (from yfinance) (1.1.5)\n",
            "Requirement already satisfied: lxml>=4.5.1 in /usr/local/lib/python3.7/dist-packages (from yfinance) (4.6.3)\n",
            "Requirement already satisfied: pytz>=2017.2 in /usr/local/lib/python3.7/dist-packages (from pandas>=0.24->yfinance) (2018.9)\n",
            "Requirement already satisfied: python-dateutil>=2.7.3 in /usr/local/lib/python3.7/dist-packages (from pandas>=0.24->yfinance) (2.8.1)\n",
            "Requirement already satisfied: six>=1.5 in /usr/local/lib/python3.7/dist-packages (from python-dateutil>=2.7.3->pandas>=0.24->yfinance) (1.15.0)\n",
            "Requirement already satisfied: idna<3,>=2.5 in /usr/local/lib/python3.7/dist-packages (from requests>=2.20->yfinance) (2.10)\n",
            "Requirement already satisfied: certifi>=2017.4.17 in /usr/local/lib/python3.7/dist-packages (from requests>=2.20->yfinance) (2021.5.30)\n",
            "Requirement already satisfied: chardet<4,>=3.0.2 in /usr/local/lib/python3.7/dist-packages (from requests>=2.20->yfinance) (3.0.4)\n",
            "Requirement already satisfied: urllib3!=1.25.0,!=1.25.1,<1.26,>=1.21.1 in /usr/local/lib/python3.7/dist-packages (from requests>=2.20->yfinance) (1.24.3)\n"
          ],
          "name": "stdout"
        }
      ]
    },
    {
      "cell_type": "markdown",
      "metadata": {
        "id": "_W3myaBVKkYO"
      },
      "source": [
        "What is Portfolio Optimization?\n",
        "\n",
        "Portfolio optimization is nothing but a process where an investor receives the right guidance with respect to selection of assets from the range of other options and in this theory projects/programs are not valued on an individual basis rather the same is valued as a part of a particular portfolio."
      ]
    },
    {
      "cell_type": "code",
      "metadata": {
        "id": "bn6NcxX9qvtd"
      },
      "source": [
        "from pandas_datareader import data as web\n",
        "import yfinance as yf\n",
        "import numpy as np\n",
        "from matplotlib import pyplot as plt\n",
        "import pandas as pd\n",
        "import datetime as dt"
      ],
      "execution_count": 42,
      "outputs": []
    },
    {
      "cell_type": "markdown",
      "metadata": {
        "id": "cteaf64UKwEy"
      },
      "source": [
        "Process of Optimal Portfolio\n",
        "Asset Allocation\n",
        " \n",
        " for an optimal portfolio is essentially a two-part process:\n",
        "\n",
        "1. Selecting Asset Classes – Portfolio managers\n",
        " first choose the asset classes that they want to allocate funds to, and then they decide the weight of every asset class be included. Common asset classes include Equities, Bonds, Gold, Real Estate.\n",
        "2. Selecting Assets within Class – After deciding the asset classes, the manager decides how much of a particular stock or a bond does she want to include in the portfolio. The Efficient Frontier represents on a graph the risk-return relationship of an efficient portfolio. Each point on this curve represents an efficient portfolio."
      ]
    },
    {
      "cell_type": "code",
      "metadata": {
        "id": "5AB0Ea86rQD7"
      },
      "source": [
        "# Get the stock tickers \n",
        "\n",
        "tickers = ['AMZN', 'AAPL','GOOG', 'NFLIX']\n"
      ],
      "execution_count": 30,
      "outputs": []
    },
    {
      "cell_type": "code",
      "metadata": {
        "id": "CcrpOSU-vypZ"
      },
      "source": [
        "stock = pd.DataFrame()\n",
        "\n",
        "start = dt.datetime.now() - dt.timedelta(days=365 * 5)\n",
        "today = dt.datetime.now()\n"
      ],
      "execution_count": 33,
      "outputs": []
    },
    {
      "cell_type": "code",
      "metadata": {
        "colab": {
          "base_uri": "https://localhost:8080/"
        },
        "id": "5Aft29R_v52D",
        "outputId": "5abfd92c-b8c0-4065-90df-485dc059b19e"
      },
      "source": [
        "for stocks in tickers:\n",
        "  stock[stocks] = yf.download(stocks, data_source='yahoo',start= start, end=today)['Adj Close']"
      ],
      "execution_count": 34,
      "outputs": [
        {
          "output_type": "stream",
          "text": [
            "[*********************100%***********************]  1 of 1 completed\n",
            "[*********************100%***********************]  1 of 1 completed\n",
            "[*********************100%***********************]  1 of 1 completed\n",
            "[*********************100%***********************]  1 of 1 completed\n"
          ],
          "name": "stdout"
        }
      ]
    },
    {
      "cell_type": "code",
      "metadata": {
        "colab": {
          "base_uri": "https://localhost:8080/",
          "height": 383
        },
        "id": "pxUELko5uMcE",
        "outputId": "b1f2201e-8288-48a0-9216-5b7e66ff06b6"
      },
      "source": [
        " (stock/stock.iloc[-1]).plot(figsize=(12,6))\n",
        " plt.title('Stock Portfolio Adj Close Price')\n",
        " plt.show()\n"
      ],
      "execution_count": 37,
      "outputs": [
        {
          "output_type": "display_data",
          "data": {
            "image/png": "[encoded data removed]",
            "text/plain": [
              "<Figure size 864x432 with 1 Axes>"
            ]
          },
          "metadata": {
            "tags": [],
            "needs_background": "light"
          }
        }
      ]
    },
    {
      "cell_type": "code",
      "metadata": {
        "colab": {
          "base_uri": "https://localhost:8080/",
          "height": 450
        },
        "id": "_TFfKF5a0BSW",
        "outputId": "e2890dd5-b563-4d19-d9a3-1b2722becc48"
      },
      "source": [
        "# show the daily return\n",
        "\n",
        "returns = stock.pct_change()\n",
        "\n",
        "#show\n",
        "returns"
      ],
      "execution_count": 38,
      "outputs": [
        {
          "output_type": "execute_result",
          "data": {
            "text/html": [
              "<div>\n",
              "<style scoped>\n",
              "    .dataframe tbody tr th:only-of-type {\n",
              "        vertical-align: middle;\n",
              "    }\n",
              "\n",
              "    .dataframe tbody tr th {\n",
              "        vertical-align: top;\n",
              "    }\n",
              "\n",
              "    .dataframe thead th {\n",
              "        text-align: right;\n",
              "    }\n",
              "</style>\n",
              "<table border=\"1\" class=\"dataframe\">\n",
              "  <thead>\n",
              "    <tr style=\"text-align: right;\">\n",
              "      <th></th>\n",
              "      <th>AMZN</th>\n",
              "      <th>AAPL</th>\n",
              "      <th>GOOG</th>\n",
              "      <th>NFLIX</th>\n",
              "    </tr>\n",
              "    <tr>\n",
              "      <th>Date</th>\n",
              "      <th></th>\n",
              "      <th></th>\n",
              "      <th></th>\n",
              "      <th></th>\n",
              "    </tr>\n",
              "  </thead>\n",
              "  <tbody>\n",
              "    <tr>\n",
              "      <th>2016-07-22</th>\n",
              "      <td>NaN</td>\n",
              "      <td>NaN</td>\n",
              "      <td>NaN</td>\n",
              "      <td>NaN</td>\n",
              "    </tr>\n",
              "    <tr>\n",
              "      <th>2016-07-25</th>\n",
              "      <td>-0.007048</td>\n",
              "      <td>-0.013379</td>\n",
              "      <td>-0.003999</td>\n",
              "      <td>-0.002698</td>\n",
              "    </tr>\n",
              "    <tr>\n",
              "      <th>2016-07-26</th>\n",
              "      <td>-0.005435</td>\n",
              "      <td>-0.006883</td>\n",
              "      <td>-0.001825</td>\n",
              "      <td>0.000902</td>\n",
              "    </tr>\n",
              "    <tr>\n",
              "      <th>2016-07-27</th>\n",
              "      <td>0.001468</td>\n",
              "      <td>0.064963</td>\n",
              "      <td>0.004537</td>\n",
              "      <td>0.000901</td>\n",
              "    </tr>\n",
              "    <tr>\n",
              "      <th>2016-07-28</th>\n",
              "      <td>0.021638</td>\n",
              "      <td>0.013502</td>\n",
              "      <td>0.005581</td>\n",
              "      <td>0.000000</td>\n",
              "    </tr>\n",
              "    <tr>\n",
              "      <th>...</th>\n",
              "      <td>...</td>\n",
              "      <td>...</td>\n",
              "      <td>...</td>\n",
              "      <td>...</td>\n",
              "    </tr>\n",
              "    <tr>\n",
              "      <th>2021-07-14</th>\n",
              "      <td>0.001175</td>\n",
              "      <td>0.024100</td>\n",
              "      <td>0.008306</td>\n",
              "      <td>0.000000</td>\n",
              "    </tr>\n",
              "    <tr>\n",
              "      <th>2021-07-15</th>\n",
              "      <td>-0.013711</td>\n",
              "      <td>-0.004492</td>\n",
              "      <td>-0.006178</td>\n",
              "      <td>0.000000</td>\n",
              "    </tr>\n",
              "    <tr>\n",
              "      <th>2021-07-16</th>\n",
              "      <td>-0.015854</td>\n",
              "      <td>-0.014076</td>\n",
              "      <td>0.004411</td>\n",
              "      <td>0.000000</td>\n",
              "    </tr>\n",
              "    <tr>\n",
              "      <th>2021-07-19</th>\n",
              "      <td>-0.006727</td>\n",
              "      <td>-0.026914</td>\n",
              "      <td>-0.019656</td>\n",
              "      <td>0.000000</td>\n",
              "    </tr>\n",
              "    <tr>\n",
              "      <th>2021-07-20</th>\n",
              "      <td>0.006649</td>\n",
              "      <td>0.025974</td>\n",
              "      <td>0.014294</td>\n",
              "      <td>0.000000</td>\n",
              "    </tr>\n",
              "  </tbody>\n",
              "</table>\n",
              "<p>1257 rows × 4 columns</p>\n",
              "</div>"
            ],
            "text/plain": [
              "                AMZN      AAPL      GOOG     NFLIX\n",
              "Date                                              \n",
              "2016-07-22       NaN       NaN       NaN       NaN\n",
              "2016-07-25 -0.007048 -0.013379 -0.003999 -0.002698\n",
              "2016-07-26 -0.005435 -0.006883 -0.001825  0.000902\n",
              "2016-07-27  0.001468  0.064963  0.004537  0.000901\n",
              "2016-07-28  0.021638  0.013502  0.005581  0.000000\n",
              "...              ...       ...       ...       ...\n",
              "2021-07-14  0.001175  0.024100  0.008306  0.000000\n",
              "2021-07-15 -0.013711 -0.004492 -0.006178  0.000000\n",
              "2021-07-16 -0.015854 -0.014076  0.004411  0.000000\n",
              "2021-07-19 -0.006727 -0.026914 -0.019656  0.000000\n",
              "2021-07-20  0.006649  0.025974  0.014294  0.000000\n",
              "\n",
              "[1257 rows x 4 columns]"
            ]
          },
          "metadata": {
            "tags": []
          },
          "execution_count": 38
        }
      ]
    },
    {
      "cell_type": "code",
      "metadata": {
        "colab": {
          "base_uri": "https://localhost:8080/",
          "height": 173
        },
        "id": "Fh125qbtxuZZ",
        "outputId": "a339e97b-4e00-4f44-e880-02c3705fdb7b"
      },
      "source": [
        "#calculating the annualized covariance matrix\n",
        "cov_matrix = returns.cov()*252 \n",
        "\n",
        "#show\n",
        "cov_matrix"
      ],
      "execution_count": 39,
      "outputs": [
        {
          "output_type": "execute_result",
          "data": {
            "text/html": [
              "<div>\n",
              "<style scoped>\n",
              "    .dataframe tbody tr th:only-of-type {\n",
              "        vertical-align: middle;\n",
              "    }\n",
              "\n",
              "    .dataframe tbody tr th {\n",
              "        vertical-align: top;\n",
              "    }\n",
              "\n",
              "    .dataframe thead th {\n",
              "        text-align: right;\n",
              "    }\n",
              "</style>\n",
              "<table border=\"1\" class=\"dataframe\">\n",
              "  <thead>\n",
              "    <tr style=\"text-align: right;\">\n",
              "      <th></th>\n",
              "      <th>AMZN</th>\n",
              "      <th>AAPL</th>\n",
              "      <th>GOOG</th>\n",
              "      <th>NFLIX</th>\n",
              "    </tr>\n",
              "  </thead>\n",
              "  <tbody>\n",
              "    <tr>\n",
              "      <th>AMZN</th>\n",
              "      <td>0.085280</td>\n",
              "      <td>0.055852</td>\n",
              "      <td>0.052273</td>\n",
              "      <td>0.000154</td>\n",
              "    </tr>\n",
              "    <tr>\n",
              "      <th>AAPL</th>\n",
              "      <td>0.055852</td>\n",
              "      <td>0.091992</td>\n",
              "      <td>0.053299</td>\n",
              "      <td>0.001012</td>\n",
              "    </tr>\n",
              "    <tr>\n",
              "      <th>GOOG</th>\n",
              "      <td>0.052273</td>\n",
              "      <td>0.053299</td>\n",
              "      <td>0.071085</td>\n",
              "      <td>0.000606</td>\n",
              "    </tr>\n",
              "    <tr>\n",
              "      <th>NFLIX</th>\n",
              "      <td>0.000154</td>\n",
              "      <td>0.001012</td>\n",
              "      <td>0.000606</td>\n",
              "      <td>0.012978</td>\n",
              "    </tr>\n",
              "  </tbody>\n",
              "</table>\n",
              "</div>"
            ],
            "text/plain": [
              "           AMZN      AAPL      GOOG     NFLIX\n",
              "AMZN   0.085280  0.055852  0.052273  0.000154\n",
              "AAPL   0.055852  0.091992  0.053299  0.001012\n",
              "GOOG   0.052273  0.053299  0.071085  0.000606\n",
              "NFLIX  0.000154  0.001012  0.000606  0.012978"
            ]
          },
          "metadata": {
            "tags": []
          },
          "execution_count": 39
        }
      ]
    },
    {
      "cell_type": "markdown",
      "metadata": {
        "id": "ypbHCSFOL-rf"
      },
      "source": [
        "Asset Weighting\n",
        "\n",
        "When optimizing your portfolio, you assign  an ‘optimization weight’ for each asset class and all assets within that class. The weight is the percentage of the portfolio that concentrates within any particular class. For example, say we weight stocks at 10% and bonds at 20%. This means bonds are twice as important to our portfolio as stocks. So, we could then assign sub-weights to slow-growth stocks and fast-growth stocks at 20% and 10%, respectively. Any stocks selected for this portfolio would need to establish and maintain these ratios.\n",
        "\n",
        "You assign asset weights based upon your risk and return tolerance. If you hope to minimize risk you would assign greater weight to low-risk, low-growth assets. This is what we have done in the above example by assigning twice as much weight to safe investments as profitable ones."
      ]
    },
    {
      "cell_type": "code",
      "metadata": {
        "id": "QcmSSho3MZuB"
      },
      "source": [
        "# Investing each weight to the portfolio\n",
        "weights = np.array([0.25,0.25,0.25,0.25])"
      ],
      "execution_count": 77,
      "outputs": []
    },
    {
      "cell_type": "markdown",
      "metadata": {
        "id": "15PyT1DOMqiV"
      },
      "source": [
        "Calculating Asset Weight\n",
        "\n",
        "Now we need to calculate our weights. In a non-optimized portfolio, we might place too much money in Stock, thus reducing our possible returns, or over-invest in Stock, which would create too much risk. "
      ]
    },
    {
      "cell_type": "code",
      "metadata": {
        "colab": {
          "base_uri": "https://localhost:8080/"
        },
        "id": "aCaEAyNu4tGE",
        "outputId": "5b4cca29-f9a0-46af-c22a-90f3f7c9fa43"
      },
      "source": [
        "# calculating portfolio variance\n",
        "pfolio_variance = np.dot( weights.T, np.dot(cov_matrix, weights))\n",
        "\n",
        "#show\n",
        "print('Expected Portfolio Variance',pfolio_variance)"
      ],
      "execution_count": 50,
      "outputs": [
        {
          "output_type": "stream",
          "text": [
            "Expected Portfolio Variance 0.03673281724240901\n"
          ],
          "name": "stdout"
        }
      ]
    },
    {
      "cell_type": "code",
      "metadata": {
        "colab": {
          "base_uri": "https://localhost:8080/"
        },
        "id": "9v0t4TSN5kDS",
        "outputId": "c8b4328a-fa74-4944-b186-1f18c3346768"
      },
      "source": [
        "stock.shape"
      ],
      "execution_count": 52,
      "outputs": [
        {
          "output_type": "execute_result",
          "data": {
            "text/plain": [
              "(1257, 4)"
            ]
          },
          "metadata": {
            "tags": []
          },
          "execution_count": 52
        }
      ]
    },
    {
      "cell_type": "markdown",
      "metadata": {
        "id": "VeC1P_4uLwKf"
      },
      "source": [
        "What Is Risk?\n",
        "\n",
        "Risk is the chance that you’ll lose money on an investment or won’t see the returns that you expected. However, investors also measure risk through volatility, which refers to the likelihood an asset’s price will change significantly."
      ]
    },
    {
      "cell_type": "code",
      "metadata": {
        "colab": {
          "base_uri": "https://localhost:8080/"
        },
        "id": "EXq8Wdrj6D8y",
        "outputId": "a2772627-5ff3-4f93-e144-010ae5d7ffd9"
      },
      "source": [
        "pfolio_risk = pfolio_variance ** 0.5\n",
        "\n",
        "print('Expected Portfolio Risk')\n",
        "#show results\n",
        "print(pfolio_risk)"
      ],
      "execution_count": 55,
      "outputs": [
        {
          "output_type": "stream",
          "text": [
            "Expected Portfolio Risk\n",
            "0.19165807377308428\n"
          ],
          "name": "stdout"
        }
      ]
    },
    {
      "cell_type": "code",
      "metadata": {
        "colab": {
          "base_uri": "https://localhost:8080/"
        },
        "id": "ZfzkOWTj9p16",
        "outputId": "6e43f515-dd05-40d6-d223-e7e7191f003c"
      },
      "source": [
        "# calculate the annual returns\n",
        "pfolio_annual_return = np.sum(returns.mean() * weights) * 252\n",
        "\n",
        "#show\n",
        "print('Annual Portfolio Return',pfolio_annual_return)"
      ],
      "execution_count": 60,
      "outputs": [
        {
          "output_type": "stream",
          "text": [
            "Annual Portfolio Return 0.25355469089421445\n"
          ],
          "name": "stdout"
        }
      ]
    },
    {
      "cell_type": "markdown",
      "metadata": {
        "id": "PmbkternK-8o"
      },
      "source": [
        "\n",
        "An optimal portfolio is said to be the one that has the highest Sharpe ratio\n",
        ", which measures the excess return generated for every unit of risk taken.\n",
        "\n",
        "Portfolio optimization is based on Modern Portfolio Theory (MPT\n",
        "). The MPT is based on the principle that investors want the highest return for the lowest risk. To achieve this, assets in a portfolio should be selected after considering how they perform relative to each other, i.e.; they should have a low correlation. Any optimal portfolio based on the MPT is well-diversified in order to avoid a crash when a particular asset or asset class underperforms."
      ]
    },
    {
      "cell_type": "code",
      "metadata": {
        "colab": {
          "base_uri": "https://localhost:8080/"
        },
        "id": "5_9CnFth6U68",
        "outputId": "02214394-9c0b-4197-e6cb-26f7acfa2bba"
      },
      "source": [
        "# sharpe ratio\n",
        "rf= 0.08\n",
        "\n",
        "pfolio_sharpe = (pfolio_annual_return - rf)/ pfolio_risk\n",
        "\n",
        "print('Sharpe Ratio of Stock Portfolio:', pfolio_sharpe )"
      ],
      "execution_count": 76,
      "outputs": [
        {
          "output_type": "stream",
          "text": [
            "Sharpe Ratio of Stock Portfolio: 0.905543332861085\n"
          ],
          "name": "stdout"
        }
      ]
    },
    {
      "cell_type": "code",
      "metadata": {
        "colab": {
          "base_uri": "https://localhost:8080/"
        },
        "id": "3ma0LX6O-ecw",
        "outputId": "92c4b39b-a7fd-45ba-9b1f-d926745c07e6"
      },
      "source": [
        "# Markowitz Portfolio Efficient Frontier\n",
        "\n",
        "pfolio_returns = []\n",
        "pfolio_volatilities = []\n",
        "tickers = ['AMZN', 'AAPL','GOOG', 'NFLIX']\n",
        "num_assets =len(tickers)\n",
        "\n",
        "for x in range(1000):\n",
        "    weights = np.random.random(num_assets)\n",
        "    weights /= np.sum(weights)\n",
        "    pfolio_returns.append(np.sum(weights * returns.mean()) * 250)\n",
        "    pfolio_volatilities.append(np.sqrt(np.dot(weights.T, np.dot(returns.cov() * 250, weights))))\n",
        "\n",
        "# converting to numpy arrays\n",
        "pfolio_returns = np.array(pfolio_returns)\n",
        "pfolio_volatilities = np.array(pfolio_volatilities)\n",
        "\n",
        "pfolio_returns, pfolio_volatilities "
      ],
      "execution_count": 62,
      "outputs": [
        {
          "output_type": "execute_result",
          "data": {
            "text/plain": [
              "(array([0.32896218, 0.18379052, 0.24875659, 0.24301462, 0.16294623,\n",
              "        0.2995065 , 0.32618731, 0.22840011, 0.18401622, 0.28916314,\n",
              "        0.30124643, 0.19430304, 0.24034882, 0.26871185, 0.21159474,\n",
              "        0.1283084 , 0.2552896 , 0.23047788, 0.23902809, 0.17668846,\n",
              "        0.23492756, 0.11671403, 0.28756146, 0.24376406, 0.29144436,\n",
              "        0.22837882, 0.32969809, 0.28574561, 0.25010204, 0.29671388,\n",
              "        0.23965245, 0.22244513, 0.20208698, 0.26891581, 0.31049701,\n",
              "        0.17724566, 0.20310011, 0.29631963, 0.32197802, 0.23764714,\n",
              "        0.25998452, 0.19048904, 0.25405243, 0.2288853 , 0.23745745,\n",
              "        0.24068324, 0.12874757, 0.25108827, 0.25480366, 0.21952967,\n",
              "        0.20689925, 0.20094774, 0.23683654, 0.21801787, 0.27921498,\n",
              "        0.2306463 , 0.07331369, 0.18511774, 0.29310606, 0.32335903,\n",
              "        0.25421805, 0.30329207, 0.21828099, 0.13435543, 0.23603408,\n",
              "        0.30566056, 0.27941923, 0.21987426, 0.2892712 , 0.24158671,\n",
              "        0.33065243, 0.19576045, 0.25384543, 0.33742499, 0.22555429,\n",
              "        0.29055342, 0.22366719, 0.26849588, 0.35202766, 0.29593049,\n",
              "        0.25012108, 0.1636331 , 0.21221352, 0.17869999, 0.32324546,\n",
              "        0.2043407 , 0.197044  , 0.29260945, 0.26456968, 0.22752763,\n",
              "        0.17079598, 0.27167022, 0.25660217, 0.26862787, 0.32508163,\n",
              "        0.21321551, 0.19189581, 0.32890764, 0.29273142, 0.32055554,\n",
              "        0.18702975, 0.29163579, 0.30372369, 0.23546802, 0.20615185,\n",
              "        0.20643638, 0.22615135, 0.26030773, 0.34246714, 0.24794648,\n",
              "        0.21022374, 0.2367453 , 0.28481573, 0.34252384, 0.25066053,\n",
              "        0.18935616, 0.17304887, 0.17065423, 0.23050292, 0.24898073,\n",
              "        0.30507152, 0.21561339, 0.2467727 , 0.22831429, 0.14480309,\n",
              "        0.34790148, 0.34710503, 0.29055499, 0.1987339 , 0.24814395,\n",
              "        0.18040107, 0.2739473 , 0.23009431, 0.26278522, 0.32221964,\n",
              "        0.27931626, 0.23873595, 0.35061205, 0.23410855, 0.20353311,\n",
              "        0.27614188, 0.22237926, 0.24381101, 0.23568248, 0.28840874,\n",
              "        0.18748682, 0.31207848, 0.28919759, 0.3025325 , 0.26803048,\n",
              "        0.16815539, 0.23542439, 0.25519273, 0.32470823, 0.31349756,\n",
              "        0.18142546, 0.21464659, 0.28446296, 0.15616423, 0.33016851,\n",
              "        0.2042649 , 0.20106073, 0.21176113, 0.26826942, 0.33027157,\n",
              "        0.18051472, 0.24998296, 0.22025167, 0.26135695, 0.35781176,\n",
              "        0.28279434, 0.1812587 , 0.26690537, 0.34588879, 0.27442252,\n",
              "        0.31184082, 0.22753105, 0.25247377, 0.26621126, 0.33703893,\n",
              "        0.24600331, 0.2457925 , 0.2242163 , 0.22193075, 0.28328491,\n",
              "        0.31287983, 0.22864179, 0.29709262, 0.3401648 , 0.24810306,\n",
              "        0.17999235, 0.26932618, 0.21737015, 0.24114682, 0.28346357,\n",
              "        0.29184082, 0.23045295, 0.257414  , 0.33098482, 0.25828526,\n",
              "        0.31821738, 0.17341109, 0.28440485, 0.21818921, 0.27389665,\n",
              "        0.32059597, 0.21657649, 0.11953788, 0.28550771, 0.20002069,\n",
              "        0.21837715, 0.33914286, 0.26352623, 0.32889845, 0.34654021,\n",
              "        0.25125756, 0.26581712, 0.21926829, 0.18478317, 0.24683629,\n",
              "        0.36770624, 0.28038406, 0.26685265, 0.24555351, 0.22647065,\n",
              "        0.23929491, 0.2807905 , 0.16851786, 0.31425223, 0.16212722,\n",
              "        0.25573432, 0.19022817, 0.33668519, 0.31358147, 0.18011523,\n",
              "        0.19744705, 0.20404487, 0.33225435, 0.3655083 , 0.17064715,\n",
              "        0.28599072, 0.18662026, 0.18183101, 0.14312003, 0.14372414,\n",
              "        0.14990443, 0.16373405, 0.23233149, 0.24752477, 0.17612109,\n",
              "        0.22724938, 0.16895132, 0.28144858, 0.22963659, 0.25005568,\n",
              "        0.16932686, 0.26426436, 0.31143433, 0.26835212, 0.28775691,\n",
              "        0.24646238, 0.18783891, 0.23466684, 0.32387303, 0.23630058,\n",
              "        0.27911428, 0.21178127, 0.3250746 , 0.11761774, 0.26634004,\n",
              "        0.20551363, 0.22796611, 0.3186073 , 0.22929499, 0.15021103,\n",
              "        0.20582997, 0.16172942, 0.23370579, 0.13278336, 0.28188087,\n",
              "        0.21406636, 0.2209874 , 0.16225685, 0.2590107 , 0.29114705,\n",
              "        0.21664088, 0.2572532 , 0.26792109, 0.33285148, 0.11207258,\n",
              "        0.32917574, 0.21962088, 0.18510422, 0.30322718, 0.17537635,\n",
              "        0.22849577, 0.25516936, 0.20308948, 0.23128763, 0.22583281,\n",
              "        0.21786692, 0.31389407, 0.2587242 , 0.20469156, 0.28131035,\n",
              "        0.2283249 , 0.20706803, 0.28275472, 0.30030595, 0.18139716,\n",
              "        0.21553008, 0.2639479 , 0.23013643, 0.20650444, 0.28190507,\n",
              "        0.15412757, 0.24213416, 0.17030156, 0.26321647, 0.29641048,\n",
              "        0.3183576 , 0.34274944, 0.29615668, 0.22937659, 0.29079741,\n",
              "        0.24945048, 0.1498984 , 0.30624556, 0.25577462, 0.27167691,\n",
              "        0.16701218, 0.21643463, 0.271587  , 0.31171565, 0.23241877,\n",
              "        0.17831116, 0.29113374, 0.28513779, 0.25859806, 0.26378877,\n",
              "        0.16423373, 0.30006173, 0.20277109, 0.16430301, 0.29175392,\n",
              "        0.22670724, 0.25345468, 0.27211299, 0.27742589, 0.25487752,\n",
              "        0.24371223, 0.28291835, 0.13482496, 0.24619962, 0.20928524,\n",
              "        0.26953301, 0.23268865, 0.2613384 , 0.25314206, 0.2645877 ,\n",
              "        0.26463151, 0.26240306, 0.271047  , 0.3239086 , 0.27396736,\n",
              "        0.20775436, 0.17476009, 0.18810265, 0.29124279, 0.18551029,\n",
              "        0.29702569, 0.26344148, 0.35878078, 0.20159396, 0.26114397,\n",
              "        0.22374341, 0.26469663, 0.10170999, 0.22774483, 0.20618614,\n",
              "        0.20260449, 0.23545631, 0.23142648, 0.34807518, 0.20133038,\n",
              "        0.21180873, 0.20673189, 0.27938473, 0.19766616, 0.27066367,\n",
              "        0.224108  , 0.25128092, 0.22372486, 0.31464359, 0.16937018,\n",
              "        0.15956801, 0.26929481, 0.32607502, 0.30517144, 0.2615017 ,\n",
              "        0.26897067, 0.31865254, 0.27430538, 0.35561221, 0.17293612,\n",
              "        0.25272053, 0.28463668, 0.28372351, 0.30461788, 0.15831406,\n",
              "        0.20277018, 0.29846318, 0.34733726, 0.20539232, 0.36207904,\n",
              "        0.2803676 , 0.24270297, 0.23816606, 0.24629868, 0.28223856,\n",
              "        0.25987126, 0.23215393, 0.22785171, 0.29120586, 0.32905928,\n",
              "        0.26934868, 0.24518904, 0.2940384 , 0.31540169, 0.23363801,\n",
              "        0.22405541, 0.32676179, 0.19462406, 0.34260945, 0.23529626,\n",
              "        0.25966889, 0.16168675, 0.23396851, 0.16668219, 0.34522796,\n",
              "        0.32565667, 0.24207548, 0.26630731, 0.21238681, 0.23357419,\n",
              "        0.18340974, 0.25155196, 0.3047714 , 0.32287069, 0.24181074,\n",
              "        0.21505155, 0.21925001, 0.2641693 , 0.16826222, 0.23918718,\n",
              "        0.34374036, 0.21621994, 0.34115165, 0.19354288, 0.35036188,\n",
              "        0.30180124, 0.23104485, 0.33111404, 0.12448126, 0.26597672,\n",
              "        0.20130384, 0.24579959, 0.24464997, 0.14023485, 0.210713  ,\n",
              "        0.30547874, 0.24958354, 0.13324772, 0.29032992, 0.21858459,\n",
              "        0.22906538, 0.04311388, 0.31602238, 0.30831249, 0.22346183,\n",
              "        0.16351866, 0.23386986, 0.34167959, 0.19947871, 0.29099747,\n",
              "        0.24338491, 0.22413336, 0.28226702, 0.28471459, 0.26057841,\n",
              "        0.30219218, 0.23573319, 0.23755555, 0.27206999, 0.24259012,\n",
              "        0.24653774, 0.25141985, 0.30524067, 0.31701723, 0.10786255,\n",
              "        0.23664736, 0.35177447, 0.19033507, 0.21523278, 0.23837248,\n",
              "        0.33394268, 0.18839635, 0.18634973, 0.32398454, 0.22220132,\n",
              "        0.31243634, 0.20647732, 0.22087479, 0.27049932, 0.334701  ,\n",
              "        0.07839133, 0.24662588, 0.20227333, 0.18683226, 0.29018636,\n",
              "        0.1666684 , 0.31471298, 0.30508623, 0.27216403, 0.23422005,\n",
              "        0.21477923, 0.33119041, 0.31165834, 0.25333619, 0.27488312,\n",
              "        0.2583627 , 0.29840854, 0.26227884, 0.17987241, 0.22617677,\n",
              "        0.26606547, 0.21805489, 0.1873756 , 0.27804044, 0.31974249,\n",
              "        0.17768364, 0.24905307, 0.3211802 , 0.28778466, 0.27003671,\n",
              "        0.34388276, 0.20658247, 0.25840791, 0.20755777, 0.2732167 ,\n",
              "        0.23277335, 0.28103248, 0.29059905, 0.19733582, 0.23492075,\n",
              "        0.2460542 , 0.22410053, 0.20617739, 0.28855917, 0.25200278,\n",
              "        0.28300931, 0.23063028, 0.21506996, 0.17074521, 0.28013121,\n",
              "        0.34483949, 0.16780444, 0.13524046, 0.29002575, 0.23966169,\n",
              "        0.27036144, 0.30128561, 0.32167608, 0.25383659, 0.32324439,\n",
              "        0.25042414, 0.27845854, 0.28683862, 0.24817237, 0.2701632 ,\n",
              "        0.21613521, 0.29743084, 0.15051892, 0.24830931, 0.264365  ,\n",
              "        0.29192081, 0.14406487, 0.31893155, 0.21282337, 0.28606907,\n",
              "        0.27224623, 0.20821675, 0.28426143, 0.25184867, 0.22669782,\n",
              "        0.22869387, 0.22244581, 0.17787599, 0.24597826, 0.23529538,\n",
              "        0.21182334, 0.27508124, 0.33752918, 0.25905133, 0.21957586,\n",
              "        0.19043316, 0.17428211, 0.23681069, 0.21907955, 0.25223999,\n",
              "        0.17496017, 0.22084161, 0.22967108, 0.31428815, 0.30275386,\n",
              "        0.34645359, 0.24166633, 0.222857  , 0.2796745 , 0.17641731,\n",
              "        0.16243689, 0.28211236, 0.28807693, 0.24142776, 0.26757819,\n",
              "        0.28699773, 0.36720943, 0.24894061, 0.20822508, 0.23713387,\n",
              "        0.23602193, 0.29847592, 0.21070553, 0.24678452, 0.2439913 ,\n",
              "        0.27411408, 0.33618497, 0.24302206, 0.31280542, 0.2597691 ,\n",
              "        0.26576867, 0.20754551, 0.20336189, 0.33181598, 0.33043723,\n",
              "        0.3582489 , 0.19602052, 0.23444799, 0.25880988, 0.22563579,\n",
              "        0.19907835, 0.21759695, 0.24720857, 0.23109378, 0.29781325,\n",
              "        0.22707922, 0.18806386, 0.17044153, 0.25152239, 0.12365066,\n",
              "        0.23150762, 0.33761521, 0.21004235, 0.31788456, 0.15936954,\n",
              "        0.22311156, 0.25799094, 0.33458498, 0.21920492, 0.26322299,\n",
              "        0.16654891, 0.30010125, 0.27927852, 0.24048189, 0.19714822,\n",
              "        0.12792928, 0.18981643, 0.22005855, 0.29151093, 0.24149054,\n",
              "        0.27678759, 0.28374026, 0.28747698, 0.25680617, 0.3612611 ,\n",
              "        0.19264166, 0.24293953, 0.14521776, 0.27975754, 0.27809603,\n",
              "        0.27695205, 0.22630248, 0.23403606, 0.32439755, 0.24730663,\n",
              "        0.34158985, 0.2051835 , 0.26613436, 0.25393582, 0.32802606,\n",
              "        0.24032363, 0.35266852, 0.14360559, 0.28250392, 0.26086316,\n",
              "        0.21867809, 0.30850314, 0.13351644, 0.16603159, 0.31419465,\n",
              "        0.1520455 , 0.21989582, 0.2605849 , 0.31129992, 0.28608583,\n",
              "        0.259365  , 0.24313487, 0.33243029, 0.11185156, 0.31691827,\n",
              "        0.14647925, 0.14881668, 0.30316277, 0.31975743, 0.16940113,\n",
              "        0.16859202, 0.2542392 , 0.2263992 , 0.27624444, 0.25548398,\n",
              "        0.17382268, 0.19654738, 0.28467768, 0.22915108, 0.28915692,\n",
              "        0.22970416, 0.33233437, 0.22307957, 0.14387405, 0.19765464,\n",
              "        0.13396544, 0.319363  , 0.24949368, 0.26728185, 0.31411713,\n",
              "        0.21101907, 0.29367013, 0.25053552, 0.27176856, 0.09715626,\n",
              "        0.1539998 , 0.24671137, 0.20470593, 0.28396391, 0.24038758,\n",
              "        0.23254815, 0.28911971, 0.26909027, 0.22720415, 0.2613554 ,\n",
              "        0.10489029, 0.17646325, 0.34359738, 0.36532358, 0.20682673,\n",
              "        0.31228347, 0.20744877, 0.22630867, 0.16153645, 0.20241025,\n",
              "        0.21249483, 0.20214677, 0.21272849, 0.20346752, 0.19215938,\n",
              "        0.21610807, 0.23278108, 0.16925634, 0.27572411, 0.13275786,\n",
              "        0.26933636, 0.2756442 , 0.24436985, 0.31811215, 0.18197876,\n",
              "        0.32093955, 0.32963769, 0.26920795, 0.36799485, 0.254462  ,\n",
              "        0.27131428, 0.30978237, 0.25736589, 0.3293276 , 0.25609968,\n",
              "        0.33555372, 0.18880984, 0.33878488, 0.2209344 , 0.25794095,\n",
              "        0.27456194, 0.18005914, 0.26777889, 0.30683445, 0.2867231 ,\n",
              "        0.30716669, 0.30241044, 0.20859756, 0.23663758, 0.19797265,\n",
              "        0.31051295, 0.20365907, 0.23629154, 0.30049058, 0.31969798,\n",
              "        0.19814799, 0.30499836, 0.2889076 , 0.20579977, 0.25641616,\n",
              "        0.19279005, 0.32800903, 0.21589552, 0.2823959 , 0.23492738,\n",
              "        0.18421708, 0.21383882, 0.29035731, 0.32681102, 0.27097619,\n",
              "        0.23123815, 0.33358075, 0.23181289, 0.28227337, 0.30902456,\n",
              "        0.25941389, 0.33000874, 0.24720134, 0.20502722, 0.25613085,\n",
              "        0.2512481 , 0.19828476, 0.35128938, 0.22887203, 0.32213574,\n",
              "        0.32405841, 0.26354542, 0.33227664, 0.17560921, 0.30022991,\n",
              "        0.18841616, 0.33469854, 0.27273517, 0.32410502, 0.26240296,\n",
              "        0.29689025, 0.23644695, 0.17403515, 0.21348078, 0.20740624,\n",
              "        0.19418955, 0.23671637, 0.2867266 , 0.32249089, 0.28577983,\n",
              "        0.23482369, 0.16564075, 0.3398347 , 0.22714174, 0.29815165,\n",
              "        0.34689098, 0.33274307, 0.17703276, 0.22465132, 0.30545474,\n",
              "        0.25586066, 0.20769616, 0.1904105 , 0.32507889, 0.26024221,\n",
              "        0.24187754, 0.31495068, 0.33449003, 0.2476225 , 0.25159951,\n",
              "        0.32783635, 0.24892967, 0.15781764, 0.30350709, 0.25713635,\n",
              "        0.23632312, 0.2853507 , 0.23434069, 0.1450837 , 0.23827138,\n",
              "        0.2875797 , 0.17273205, 0.14673895, 0.21292643, 0.27382315,\n",
              "        0.26599856, 0.13052423, 0.24800595, 0.295383  , 0.20790728,\n",
              "        0.29064037, 0.22198024, 0.20085808, 0.29368225, 0.27358035,\n",
              "        0.25354326, 0.32322508, 0.16401146, 0.15309625, 0.30480198,\n",
              "        0.08875545, 0.30386187, 0.26487292, 0.28861995, 0.21192462,\n",
              "        0.2245165 , 0.16799625, 0.25542826, 0.16658418, 0.2680278 ,\n",
              "        0.25964076, 0.2095129 , 0.18635614, 0.27919079, 0.14835041,\n",
              "        0.22741041, 0.28683611, 0.25844859, 0.24223386, 0.21643006,\n",
              "        0.23144657, 0.28660229, 0.26541937, 0.20409561, 0.27329417,\n",
              "        0.20317656, 0.27392611, 0.28377302, 0.23652518, 0.20665966,\n",
              "        0.19514689, 0.30502101, 0.28790118, 0.26155089, 0.21230648,\n",
              "        0.19375381, 0.21903585, 0.23929974, 0.24453561, 0.25156917,\n",
              "        0.16061295, 0.22568882, 0.29590046, 0.22024519, 0.25365887,\n",
              "        0.28547111, 0.19183059, 0.10729415, 0.2578044 , 0.28858082,\n",
              "        0.31647018, 0.28162632, 0.17535369, 0.26088775, 0.22636288,\n",
              "        0.32222226, 0.25499157, 0.26426448, 0.30008145, 0.30086933,\n",
              "        0.21184341, 0.24912938, 0.26546415, 0.33425762, 0.24712022,\n",
              "        0.26364666, 0.15338169, 0.22560964, 0.22935784, 0.256539  ,\n",
              "        0.27440217, 0.32521029, 0.29498316, 0.25310098, 0.26750375,\n",
              "        0.30512467, 0.18084216, 0.16024989, 0.20097943, 0.29699276,\n",
              "        0.25096093, 0.28095335, 0.30061861, 0.23835847, 0.2893191 ]),\n",
              " array([0.24974848, 0.16995592, 0.18799091, 0.19962912, 0.14330873,\n",
              "        0.22008478, 0.23241984, 0.18144432, 0.16516502, 0.22663535,\n",
              "        0.2228212 , 0.17320612, 0.1887976 , 0.20038664, 0.18423458,\n",
              "        0.13067145, 0.1927726 , 0.17931153, 0.18466334, 0.15147418,\n",
              "        0.1882267 , 0.12662609, 0.21372263, 0.18482393, 0.21450662,\n",
              "        0.17586841, 0.23826195, 0.21411307, 0.18922465, 0.2211729 ,\n",
              "        0.18175122, 0.1824715 , 0.17280912, 0.19840167, 0.23938835,\n",
              "        0.15517642, 0.17807808, 0.22308835, 0.23303928, 0.18253314,\n",
              "        0.19679583, 0.17481968, 0.19116463, 0.18412998, 0.18410559,\n",
              "        0.1863893 , 0.13067169, 0.18864581, 0.19019365, 0.17131053,\n",
              "        0.17906981, 0.16449465, 0.18307381, 0.17685544, 0.21306189,\n",
              "        0.17734567, 0.11228745, 0.16361962, 0.21590392, 0.23417529,\n",
              "        0.18974193, 0.22149417, 0.18062718, 0.13771623, 0.18562076,\n",
              "        0.23270482, 0.20917739, 0.18026887, 0.21178439, 0.19018754,\n",
              "        0.23787639, 0.16251261, 0.19781272, 0.23932077, 0.17881659,\n",
              "        0.21144553, 0.17682597, 0.20581968, 0.25148634, 0.21891937,\n",
              "        0.20656934, 0.15147497, 0.17307407, 0.15485716, 0.23271318,\n",
              "        0.1661369 , 0.16624506, 0.22276914, 0.19815391, 0.17700463,\n",
              "        0.16213324, 0.20103642, 0.20387906, 0.21815473, 0.23522432,\n",
              "        0.17702386, 0.15942463, 0.23795745, 0.22295005, 0.23180941,\n",
              "        0.16188314, 0.2221804 , 0.22670056, 0.18466401, 0.16900436,\n",
              "        0.17105912, 0.17579483, 0.19944113, 0.24106847, 0.18969414,\n",
              "        0.17625649, 0.18033044, 0.22420523, 0.24336866, 0.19031633,\n",
              "        0.15694888, 0.1491805 , 0.14834378, 0.17937078, 0.18829271,\n",
              "        0.22570808, 0.17434666, 0.19569141, 0.18667329, 0.14231995,\n",
              "        0.24808315, 0.24913886, 0.21486354, 0.1616306 , 0.19078728,\n",
              "        0.1676007 , 0.21481418, 0.18563902, 0.19998085, 0.23910464,\n",
              "        0.2100226 , 0.18162872, 0.24997158, 0.18248966, 0.16692845,\n",
              "        0.21338206, 0.17641237, 0.18948305, 0.19870721, 0.22192456,\n",
              "        0.15908986, 0.22681274, 0.22952332, 0.23325034, 0.20561027,\n",
              "        0.16301081, 0.18409486, 0.19078881, 0.23089693, 0.22931805,\n",
              "        0.15222612, 0.17160938, 0.21024422, 0.15457817, 0.24119289,\n",
              "        0.17076811, 0.16754718, 0.17933534, 0.19983974, 0.23433772,\n",
              "        0.16774425, 0.19122877, 0.18823472, 0.19393886, 0.25554238,\n",
              "        0.21097784, 0.15920491, 0.20247965, 0.24601933, 0.20367335,\n",
              "        0.2306953 , 0.20155053, 0.19553907, 0.19802822, 0.24253632,\n",
              "        0.19141726, 0.19878857, 0.17543595, 0.18013092, 0.2218067 ,\n",
              "        0.23115597, 0.17629657, 0.21610205, 0.24025297, 0.1907092 ,\n",
              "        0.15576799, 0.20891395, 0.170121  , 0.19058135, 0.20847805,\n",
              "        0.22468961, 0.18145584, 0.19841636, 0.23532705, 0.19673625,\n",
              "        0.24171032, 0.15325951, 0.21619602, 0.17175322, 0.20397524,\n",
              "        0.23528548, 0.17218165, 0.13097207, 0.21199006, 0.16156547,\n",
              "        0.18354649, 0.24104839, 0.19976123, 0.23732215, 0.24406363,\n",
              "        0.18938899, 0.19905788, 0.17473004, 0.16209574, 0.21159845,\n",
              "        0.26051459, 0.207946  , 0.20134074, 0.19506554, 0.17577605,\n",
              "        0.19049999, 0.2092532 , 0.14985883, 0.22884215, 0.14615411,\n",
              "        0.19672834, 0.16086314, 0.24758192, 0.23428885, 0.15667421,\n",
              "        0.17204852, 0.16733582, 0.23532178, 0.25973414, 0.15280032,\n",
              "        0.21058099, 0.15738841, 0.16124863, 0.13561787, 0.13554123,\n",
              "        0.14251075, 0.15601832, 0.17920523, 0.18855583, 0.15456206,\n",
              "        0.17991313, 0.14648528, 0.21215469, 0.1873434 , 0.19252539,\n",
              "        0.14617302, 0.20150217, 0.22697268, 0.20872007, 0.22008576,\n",
              "        0.19078832, 0.15528889, 0.18571017, 0.25027546, 0.18014128,\n",
              "        0.20733585, 0.16925325, 0.23130762, 0.12680063, 0.19782288,\n",
              "        0.17044323, 0.18432651, 0.24437863, 0.17728034, 0.15031903,\n",
              "        0.17669067, 0.1457312 , 0.18067341, 0.13543969, 0.21942143,\n",
              "        0.17781902, 0.18294224, 0.15063014, 0.19368487, 0.21273111,\n",
              "        0.17814709, 0.20317942, 0.20457475, 0.2458028 , 0.1229322 ,\n",
              "        0.23662014, 0.17388566, 0.15498695, 0.21927805, 0.15475428,\n",
              "        0.18083105, 0.19138587, 0.16459214, 0.17742796, 0.17924915,\n",
              "        0.17942585, 0.2423488 , 0.19633957, 0.17735719, 0.20500015,\n",
              "        0.18489299, 0.19163982, 0.22041661, 0.25147982, 0.15383302,\n",
              "        0.18217144, 0.20216228, 0.1819033 , 0.17622368, 0.20701998,\n",
              "        0.13934539, 0.1840317 , 0.15924308, 0.22376842, 0.22304136,\n",
              "        0.22885991, 0.24208282, 0.22472911, 0.18044757, 0.21554052,\n",
              "        0.19290787, 0.14094514, 0.23084386, 0.19569427, 0.2073283 ,\n",
              "        0.15877722, 0.169853  , 0.20135794, 0.22393586, 0.18023234,\n",
              "        0.16234822, 0.21574793, 0.20898042, 0.19756792, 0.1994489 ,\n",
              "        0.15452882, 0.22246107, 0.16435747, 0.14370924, 0.21310802,\n",
              "        0.18858092, 0.19223136, 0.20520343, 0.20816801, 0.204743  ,\n",
              "        0.18936814, 0.21681153, 0.13580502, 0.18641311, 0.16919578,\n",
              "        0.20074169, 0.18543327, 0.1943407 , 0.19343248, 0.19746334,\n",
              "        0.19656148, 0.21424952, 0.20401718, 0.23401197, 0.21085868,\n",
              "        0.16729987, 0.15648944, 0.16133477, 0.21484495, 0.15986381,\n",
              "        0.21790017, 0.19780955, 0.26779647, 0.17094821, 0.20208946,\n",
              "        0.17964975, 0.19675178, 0.12049574, 0.17635679, 0.17978634,\n",
              "        0.17068555, 0.18232352, 0.17780452, 0.24764267, 0.17693109,\n",
              "        0.16706397, 0.16677319, 0.21113173, 0.17219879, 0.20391574,\n",
              "        0.17702907, 0.18899248, 0.17663018, 0.23087437, 0.16374277,\n",
              "        0.1444815 , 0.20068733, 0.2415932 , 0.23422815, 0.19381048,\n",
              "        0.22067563, 0.23685352, 0.20168407, 0.25180145, 0.1581692 ,\n",
              "        0.19760788, 0.21513566, 0.20832334, 0.22022655, 0.15279784,\n",
              "        0.16737493, 0.21996948, 0.24417039, 0.16828791, 0.25359272,\n",
              "        0.20846519, 0.18967539, 0.18213444, 0.18578356, 0.20958496,\n",
              "        0.19897739, 0.1882121 , 0.17609708, 0.22643617, 0.23316304,\n",
              "        0.20487134, 0.18887558, 0.21310301, 0.22951906, 0.17963797,\n",
              "        0.17364691, 0.24158762, 0.15854336, 0.25458963, 0.19534344,\n",
              "        0.19311021, 0.14743385, 0.18008087, 0.15380902, 0.24688275,\n",
              "        0.24104356, 0.18799048, 0.20518601, 0.1696235 , 0.18337091,\n",
              "        0.15564794, 0.20701439, 0.22897083, 0.23205895, 0.18363977,\n",
              "        0.17006024, 0.19068505, 0.21162984, 0.14934506, 0.18290305,\n",
              "        0.24658804, 0.17268488, 0.25211704, 0.16288777, 0.25058559,\n",
              "        0.22542534, 0.18237227, 0.23614885, 0.14566889, 0.2023165 ,\n",
              "        0.17730135, 0.19075934, 0.18787941, 0.1362839 , 0.18156084,\n",
              "        0.23087411, 0.19756363, 0.13408316, 0.21139306, 0.18643287,\n",
              "        0.17668007, 0.10619747, 0.23507848, 0.2260558 , 0.17877464,\n",
              "        0.14503291, 0.18608787, 0.2417298 , 0.17461476, 0.23072131,\n",
              "        0.18408904, 0.18100126, 0.20690067, 0.21566424, 0.20150518,\n",
              "        0.22762608, 0.18195623, 0.18185122, 0.2009838 , 0.18463685,\n",
              "        0.20046852, 0.1884816 , 0.22482311, 0.23934866, 0.12253203,\n",
              "        0.18518453, 0.24841557, 0.16712122, 0.17734435, 0.18552341,\n",
              "        0.23872051, 0.15798782, 0.15936195, 0.23539455, 0.1750297 ,\n",
              "        0.22555778, 0.16717862, 0.1765012 , 0.20516863, 0.23890492,\n",
              "        0.1160765 , 0.18925977, 0.16776419, 0.17432967, 0.21715791,\n",
              "        0.15324297, 0.22623699, 0.22289913, 0.20375471, 0.17963999,\n",
              "        0.17153446, 0.23680821, 0.23407866, 0.19012477, 0.20972743,\n",
              "        0.19631054, 0.21832877, 0.20892675, 0.15973149, 0.18440954,\n",
              "        0.21199209, 0.17137037, 0.16454961, 0.20762505, 0.23525558,\n",
              "        0.15506165, 0.19741877, 0.23593441, 0.21500566, 0.20032814,\n",
              "        0.24485234, 0.17119035, 0.2011296 , 0.18311191, 0.20146061,\n",
              "        0.18982807, 0.21550804, 0.2208151 , 0.16325866, 0.1842218 ,\n",
              "        0.18783793, 0.1797243 , 0.16731788, 0.21035876, 0.18984396,\n",
              "        0.20861754, 0.18205925, 0.18503471, 0.14944616, 0.20789373,\n",
              "        0.24230464, 0.15089708, 0.13584712, 0.21292283, 0.18618288,\n",
              "        0.20195878, 0.22565659, 0.23403838, 0.19022029, 0.24206672,\n",
              "        0.1939332 , 0.20652862, 0.21349362, 0.18918875, 0.2075189 ,\n",
              "        0.17226607, 0.22002935, 0.14300911, 0.19042679, 0.19904722,\n",
              "        0.21841774, 0.14960907, 0.23711173, 0.16978585, 0.21684958,\n",
              "        0.2021894 , 0.17418729, 0.20801302, 0.20173371, 0.17663227,\n",
              "        0.17962458, 0.18148798, 0.15603714, 0.18715257, 0.18059061,\n",
              "        0.1696364 , 0.20412463, 0.23801289, 0.20242512, 0.17461248,\n",
              "        0.15805139, 0.1556502 , 0.19100339, 0.17570689, 0.19919336,\n",
              "        0.15709308, 0.17718496, 0.18245687, 0.22637023, 0.23314711,\n",
              "        0.24792292, 0.19016241, 0.17672845, 0.21853006, 0.154788  ,\n",
              "        0.14871177, 0.21156247, 0.21439279, 0.18735012, 0.21034514,\n",
              "        0.22000935, 0.2626969 , 0.18979913, 0.16816209, 0.1848203 ,\n",
              "        0.18332403, 0.22608956, 0.16807221, 0.18729705, 0.18705993,\n",
              "        0.20871142, 0.24008819, 0.18433571, 0.2284711 , 0.20565927,\n",
              "        0.20030461, 0.16745353, 0.17680731, 0.23685428, 0.24019073,\n",
              "        0.25409806, 0.17152125, 0.19299269, 0.1949473 , 0.17569689,\n",
              "        0.17232946, 0.17486501, 0.18876451, 0.17744509, 0.21468712,\n",
              "        0.17812058, 0.15843736, 0.15898154, 0.18867923, 0.14081708,\n",
              "        0.17893502, 0.23903267, 0.17361447, 0.23153202, 0.15137446,\n",
              "        0.1757789 , 0.20636944, 0.24393565, 0.17754069, 0.20145946,\n",
              "        0.15183361, 0.21935411, 0.22818002, 0.18312297, 0.16151715,\n",
              "        0.13881649, 0.15928888, 0.17290622, 0.2189931 , 0.19008389,\n",
              "        0.20424288, 0.21041592, 0.20969575, 0.19873998, 0.2553519 ,\n",
              "        0.16190831, 0.18536456, 0.13634256, 0.21726938, 0.20943098,\n",
              "        0.22240004, 0.17553011, 0.17881401, 0.2300233 , 0.18712706,\n",
              "        0.2453713 , 0.18094752, 0.19952931, 0.19676528, 0.23605976,\n",
              "        0.18427775, 0.25141057, 0.14468714, 0.21811379, 0.21365586,\n",
              "        0.17207728, 0.22209263, 0.1378211 , 0.15073937, 0.22580206,\n",
              "        0.13885837, 0.18039432, 0.19381075, 0.22474556, 0.21783436,\n",
              "        0.19948493, 0.19650253, 0.24099145, 0.12931654, 0.23565678,\n",
              "        0.14158125, 0.15184703, 0.22735398, 0.23192538, 0.15910496,\n",
              "        0.15465788, 0.19102265, 0.18848086, 0.21600572, 0.20704551,\n",
              "        0.15576972, 0.16947856, 0.22641049, 0.17753094, 0.21953599,\n",
              "        0.17850847, 0.24458126, 0.17647908, 0.13823024, 0.1645857 ,\n",
              "        0.13680497, 0.2288723 , 0.19619276, 0.21243177, 0.2255549 ,\n",
              "        0.16845575, 0.22213737, 0.1924728 , 0.20259325, 0.11930811,\n",
              "        0.14978913, 0.18718507, 0.16489652, 0.21615614, 0.18445828,\n",
              "        0.17817567, 0.21494692, 0.20090713, 0.17774048, 0.19635948,\n",
              "        0.12284757, 0.14949428, 0.24182143, 0.26107349, 0.16561077,\n",
              "        0.22652314, 0.16812236, 0.17901233, 0.1494574 , 0.16546144,\n",
              "        0.17746584, 0.17731029, 0.18598248, 0.17677004, 0.16148889,\n",
              "        0.16964087, 0.1829206 , 0.15263928, 0.20226047, 0.13090015,\n",
              "        0.19913021, 0.214525  , 0.18792048, 0.22894132, 0.15839527,\n",
              "        0.23412398, 0.24291066, 0.19816981, 0.25661564, 0.18991129,\n",
              "        0.20459384, 0.22638937, 0.19845207, 0.23308431, 0.20427878,\n",
              "        0.24184428, 0.15586895, 0.24312343, 0.17720225, 0.19459862,\n",
              "        0.2098538 , 0.163349  , 0.2019518 , 0.22041141, 0.21080637,\n",
              "        0.22613884, 0.22126191, 0.1663503 , 0.19578903, 0.16618247,\n",
              "        0.22688144, 0.16452228, 0.18196188, 0.22044423, 0.25855341,\n",
              "        0.161949  , 0.22779531, 0.21179564, 0.16601866, 0.19310085,\n",
              "        0.16280126, 0.23575532, 0.19317108, 0.2083182 , 0.18419748,\n",
              "        0.16183504, 0.17608743, 0.21347435, 0.24048738, 0.22519431,\n",
              "        0.19094037, 0.24233056, 0.19467313, 0.20798116, 0.22394559,\n",
              "        0.21458548, 0.24356535, 0.20405775, 0.17229309, 0.19535534,\n",
              "        0.188326  , 0.16315655, 0.25228305, 0.1887731 , 0.2438959 ,\n",
              "        0.24217925, 0.20247503, 0.23601362, 0.15032004, 0.22819457,\n",
              "        0.17883401, 0.24598472, 0.20059423, 0.24171211, 0.19673521,\n",
              "        0.21793557, 0.19422849, 0.1509722 , 0.19521575, 0.16933449,\n",
              "        0.16105674, 0.18310643, 0.21249918, 0.23136104, 0.21307004,\n",
              "        0.18317095, 0.15528371, 0.24130725, 0.17555664, 0.22506317,\n",
              "        0.26120441, 0.25943357, 0.1522588 , 0.18853609, 0.22084162,\n",
              "        0.19433304, 0.18172994, 0.16053993, 0.24804051, 0.19959068,\n",
              "        0.18759942, 0.22992983, 0.24384207, 0.18611633, 0.18915007,\n",
              "        0.24017977, 0.19306294, 0.15046936, 0.21826483, 0.19443458,\n",
              "        0.18081095, 0.2075226 , 0.18166476, 0.13814998, 0.19030851,\n",
              "        0.21963303, 0.15421538, 0.14194627, 0.17852013, 0.20201307,\n",
              "        0.1968016 , 0.13597932, 0.19357716, 0.21487336, 0.17014487,\n",
              "        0.21818063, 0.17731961, 0.17202538, 0.23437028, 0.20744026,\n",
              "        0.19014001, 0.25172647, 0.14737539, 0.14949168, 0.22305421,\n",
              "        0.11779518, 0.22460136, 0.19908476, 0.21209036, 0.17217418,\n",
              "        0.18331212, 0.14604556, 0.21289766, 0.16767805, 0.20219326,\n",
              "        0.20520724, 0.18165013, 0.1701149 , 0.21554151, 0.14022835,\n",
              "        0.18499708, 0.21369285, 0.20501009, 0.18913715, 0.17066889,\n",
              "        0.18911615, 0.2145622 , 0.19770948, 0.17249063, 0.20074632,\n",
              "        0.16543779, 0.20334545, 0.20893157, 0.18158935, 0.16761835,\n",
              "        0.167867  , 0.22376212, 0.21472221, 0.1980827 , 0.1718788 ,\n",
              "        0.16510724, 0.17347456, 0.19198939, 0.18806518, 0.19078102,\n",
              "        0.14388418, 0.184432  , 0.21790393, 0.17325366, 0.20313369,\n",
              "        0.20742266, 0.16229607, 0.12166687, 0.19222056, 0.22057409,\n",
              "        0.23331098, 0.2101251 , 0.15849497, 0.19906547, 0.17500245,\n",
              "        0.23253372, 0.19466712, 0.2288507 , 0.23670492, 0.21817537,\n",
              "        0.18102494, 0.19332832, 0.21265647, 0.24285052, 0.19443103,\n",
              "        0.21487805, 0.14716669, 0.18154515, 0.17900004, 0.19361756,\n",
              "        0.20386847, 0.23378903, 0.21390072, 0.19544033, 0.2051338 ,\n",
              "        0.22139792, 0.16245884, 0.1586185 , 0.16348593, 0.24102147,\n",
              "        0.18943326, 0.21401191, 0.22077914, 0.19844916, 0.21323945]))"
            ]
          },
          "metadata": {
            "tags": []
          },
          "execution_count": 62
        }
      ]
    },
    {
      "cell_type": "code",
      "metadata": {
        "colab": {
          "base_uri": "https://localhost:8080/",
          "height": 421
        },
        "id": "jxIubdxx_dBs",
        "outputId": "5986fab0-76e2-4dcd-8589-b72033270f5f"
      },
      "source": [
        "# creating a dataframe\n",
        "pfolios = pd.DataFrame({'Return': pfolio_returns, 'Volatility':pfolio_volatilities})\n",
        "\n",
        "# plotting the data\n",
        "pfolios.plot(x='Volatility', y='Return', kind='scatter', figsize=(10,6))\n",
        "plt.title('Markowitz Portfolio Efficient Frontier : Technology Portfolio')\n",
        "plt.xlabel('Expected Volatilty')\n",
        "plt.ylabel('Expected Return')"
      ],
      "execution_count": 63,
      "outputs": [
        {
          "output_type": "execute_result",
          "data": {
            "text/plain": [
              "Text(0, 0.5, 'Expected Return')"
            ]
          },
          "metadata": {
            "tags": []
          },
          "execution_count": 63
        },
        {
          "output_type": "display_data",
          "data": {
            "image/png": "[encoded data removed]",
            "text/plain": [
              "<Figure size 720x432 with 1 Axes>"
            ]
          },
          "metadata": {
            "tags": [],
            "needs_background": "light"
          }
        }
      ]
    },
    {
      "cell_type": "code",
      "metadata": {
        "colab": {
          "base_uri": "https://localhost:8080/"
        },
        "id": "9xd0XalV_uvI",
        "outputId": "79b31d31-c0eb-4fca-ac9d-4b338851c3bd"
      },
      "source": [
        "#show the expected results\n",
        "variance = str( round(pfolio_variance, 2)* 100) + '%'\n",
        "Risk = str( round(pfolio_risk, 2)* 100) + '%'\n",
        "Return = str( round(pfolio_annual_return, 2)* 100) + '%'\n",
        "\n",
        "print('Expected Annual Variance:', variance)\n",
        "print('Expected Annual Risk:', Risk)\n",
        "print('Expected Annual Return:', Return)"
      ],
      "execution_count": 67,
      "outputs": [
        {
          "output_type": "stream",
          "text": [
            "Expected Annual Variance: 4.0%\n",
            "Expected Annual Risk: 19.0%\n",
            "Expected Annual Return: 25.0%\n"
          ],
          "name": "stdout"
        }
      ]
    },
    {
      "cell_type": "code",
      "metadata": {
        "colab": {
          "base_uri": "https://localhost:8080/"
        },
        "id": "_zJVL6c5BkDv",
        "outputId": "620d6f85-8e4a-4d15-c23b-4e2914ec8d2e"
      },
      "source": [
        "pip install pyPortfolioOpt\n"
      ],
      "execution_count": 68,
      "outputs": [
        {
          "output_type": "stream",
          "text": [
            "Collecting pyPortfolioOpt\n",
            "  Downloading PyPortfolioOpt-1.4.2-py3-none-any.whl (60 kB)\n",
            "\u001b[?25l\r\u001b[K     |█████▍                          | 10 kB 22.1 MB/s eta 0:00:01\r\u001b[K     |██████████▉                     | 20 kB 29.0 MB/s eta 0:00:01\r\u001b[K     |████████████████▎               | 30 kB 22.8 MB/s eta 0:00:01\r\u001b[K     |█████████████████████▋          | 40 kB 19.1 MB/s eta 0:00:01\r\u001b[K     |███████████████████████████     | 51 kB 8.1 MB/s eta 0:00:01\r\u001b[K     |████████████████████████████████| 60 kB 4.1 MB/s \n",
            "\u001b[?25hRequirement already satisfied: scipy<2.0,>=1.3 in /usr/local/lib/python3.7/dist-packages (from pyPortfolioOpt) (1.4.1)\n",
            "Requirement already satisfied: numpy<2.0,>=1.12 in /usr/local/lib/python3.7/dist-packages (from pyPortfolioOpt) (1.19.5)\n",
            "Requirement already satisfied: pandas>=0.19 in /usr/local/lib/python3.7/dist-packages (from pyPortfolioOpt) (1.1.5)\n",
            "Collecting cvxpy<2.0.0,>=1.1.10\n",
            "  Downloading cvxpy-1.1.13-cp37-cp37m-manylinux_2_24_x86_64.whl (2.7 MB)\n",
            "\u001b[K     |████████████████████████████████| 2.7 MB 17.9 MB/s \n",
            "\u001b[?25hRequirement already satisfied: ecos>=2 in /usr/local/lib/python3.7/dist-packages (from cvxpy<2.0.0,>=1.1.10->pyPortfolioOpt) (2.0.7.post1)\n",
            "Requirement already satisfied: osqp>=0.4.1 in /usr/local/lib/python3.7/dist-packages (from cvxpy<2.0.0,>=1.1.10->pyPortfolioOpt) (0.6.2.post0)\n",
            "Requirement already satisfied: scs>=1.1.6 in /usr/local/lib/python3.7/dist-packages (from cvxpy<2.0.0,>=1.1.10->pyPortfolioOpt) (2.1.4)\n",
            "Requirement already satisfied: qdldl in /usr/local/lib/python3.7/dist-packages (from osqp>=0.4.1->cvxpy<2.0.0,>=1.1.10->pyPortfolioOpt) (0.1.5.post0)\n",
            "Requirement already satisfied: pytz>=2017.2 in /usr/local/lib/python3.7/dist-packages (from pandas>=0.19->pyPortfolioOpt) (2018.9)\n",
            "Requirement already satisfied: python-dateutil>=2.7.3 in /usr/local/lib/python3.7/dist-packages (from pandas>=0.19->pyPortfolioOpt) (2.8.1)\n",
            "Requirement already satisfied: six>=1.5 in /usr/local/lib/python3.7/dist-packages (from python-dateutil>=2.7.3->pandas>=0.19->pyPortfolioOpt) (1.15.0)\n",
            "Installing collected packages: cvxpy, pyPortfolioOpt\n",
            "  Attempting uninstall: cvxpy\n",
            "    Found existing installation: cvxpy 1.0.31\n",
            "    Uninstalling cvxpy-1.0.31:\n",
            "      Successfully uninstalled cvxpy-1.0.31\n",
            "Successfully installed cvxpy-1.1.13 pyPortfolioOpt-1.4.2\n"
          ],
          "name": "stdout"
        }
      ]
    },
    {
      "cell_type": "code",
      "metadata": {
        "id": "x44LDWsfCgra"
      },
      "source": [
        "# Backbacking \n",
        "\n",
        "from pypfopt.efficient_frontier import EfficientFrontier\n",
        "from pypfopt import risk_models, expected_returns"
      ],
      "execution_count": 69,
      "outputs": []
    },
    {
      "cell_type": "code",
      "metadata": {
        "colab": {
          "base_uri": "https://localhost:8080/"
        },
        "id": "TfYDFMvPDTuD",
        "outputId": "aff067e6-51f1-45bd-8e33-0d1a8938f7f0"
      },
      "source": [
        "# portfolio optimiztion\n",
        "mean = expected_returns.mean_historical_return(stock)\n",
        "S = risk_models.sample_cov(stock)\n",
        "\n",
        "#calcalcate shapre ratio\n",
        "sr = EfficientFrontier(mean, S)\n",
        "weights = sr.max_sharpe()\n",
        "clean_weights = sr.clean_weights()\n",
        "print(clean_weights)\n",
        "sr.portfolio_performance(verbose = True)"
      ],
      "execution_count": 71,
      "outputs": [
        {
          "output_type": "stream",
          "text": [
            "OrderedDict([('AMZN', 0.32586), ('AAPL', 0.67414), ('GOOG', 0.0), ('NFLIX', 0.0)])\n",
            "Expected annual return: 42.3%\n",
            "Annual volatility: 27.5%\n",
            "Sharpe Ratio: 1.47\n"
          ],
          "name": "stdout"
        },
        {
          "output_type": "execute_result",
          "data": {
            "text/plain": [
              "(0.4229378993610217, 0.2745924777065268, 1.4674032687511027)"
            ]
          },
          "metadata": {
            "tags": []
          },
          "execution_count": 71
        }
      ]
    },
    {
      "cell_type": "code",
      "metadata": {
        "colab": {
          "base_uri": "https://localhost:8080/"
        },
        "id": "NNoq-8NkGYSI",
        "outputId": "f7ba6b55-131c-4e85-e10d-0d109f07aee6"
      },
      "source": [
        "pip install pyfolio"
      ],
      "execution_count": 72,
      "outputs": [
        {
          "output_type": "stream",
          "text": [
            "Collecting pyfolio\n",
            "  Downloading pyfolio-0.9.2.tar.gz (91 kB)\n",
            "\u001b[K     |████████████████████████████████| 91 kB 5.1 MB/s \n",
            "\u001b[?25hRequirement already satisfied: ipython>=3.2.3 in /usr/local/lib/python3.7/dist-packages (from pyfolio) (5.5.0)\n",
            "Requirement already satisfied: matplotlib>=1.4.0 in /usr/local/lib/python3.7/dist-packages (from pyfolio) (3.2.2)\n",
            "Requirement already satisfied: numpy>=1.11.1 in /usr/local/lib/python3.7/dist-packages (from pyfolio) (1.19.5)\n",
            "Requirement already satisfied: pandas>=0.18.1 in /usr/local/lib/python3.7/dist-packages (from pyfolio) (1.1.5)\n",
            "Requirement already satisfied: pytz>=2014.10 in /usr/local/lib/python3.7/dist-packages (from pyfolio) (2018.9)\n",
            "Requirement already satisfied: scipy>=0.14.0 in /usr/local/lib/python3.7/dist-packages (from pyfolio) (1.4.1)\n",
            "Requirement already satisfied: scikit-learn>=0.16.1 in /usr/local/lib/python3.7/dist-packages (from pyfolio) (0.22.2.post1)\n",
            "Requirement already satisfied: seaborn>=0.7.1 in /usr/local/lib/python3.7/dist-packages (from pyfolio) (0.11.1)\n",
            "Collecting empyrical>=0.5.0\n",
            "  Downloading empyrical-0.5.5.tar.gz (52 kB)\n",
            "\u001b[K     |████████████████████████████████| 52 kB 1.2 MB/s \n",
            "\u001b[?25hRequirement already satisfied: pandas-datareader>=0.2 in /usr/local/lib/python3.7/dist-packages (from empyrical>=0.5.0->pyfolio) (0.9.0)\n",
            "Requirement already satisfied: decorator in /usr/local/lib/python3.7/dist-packages (from ipython>=3.2.3->pyfolio) (4.4.2)\n",
            "Requirement already satisfied: setuptools>=18.5 in /usr/local/lib/python3.7/dist-packages (from ipython>=3.2.3->pyfolio) (57.2.0)\n",
            "Requirement already satisfied: traitlets>=4.2 in /usr/local/lib/python3.7/dist-packages (from ipython>=3.2.3->pyfolio) (5.0.5)\n",
            "Requirement already satisfied: pickleshare in /usr/local/lib/python3.7/dist-packages (from ipython>=3.2.3->pyfolio) (0.7.5)\n",
            "Requirement already satisfied: pexpect in /usr/local/lib/python3.7/dist-packages (from ipython>=3.2.3->pyfolio) (4.8.0)\n",
            "Requirement already satisfied: prompt-toolkit<2.0.0,>=1.0.4 in /usr/local/lib/python3.7/dist-packages (from ipython>=3.2.3->pyfolio) (1.0.18)\n",
            "Requirement already satisfied: pygments in /usr/local/lib/python3.7/dist-packages (from ipython>=3.2.3->pyfolio) (2.6.1)\n",
            "Requirement already satisfied: simplegeneric>0.8 in /usr/local/lib/python3.7/dist-packages (from ipython>=3.2.3->pyfolio) (0.8.1)\n",
            "Requirement already satisfied: cycler>=0.10 in /usr/local/lib/python3.7/dist-packages (from matplotlib>=1.4.0->pyfolio) (0.10.0)\n",
            "Requirement already satisfied: kiwisolver>=1.0.1 in /usr/local/lib/python3.7/dist-packages (from matplotlib>=1.4.0->pyfolio) (1.3.1)\n",
            "Requirement already satisfied: python-dateutil>=2.1 in /usr/local/lib/python3.7/dist-packages (from matplotlib>=1.4.0->pyfolio) (2.8.1)\n",
            "Requirement already satisfied: pyparsing!=2.0.4,!=2.1.2,!=2.1.6,>=2.0.1 in /usr/local/lib/python3.7/dist-packages (from matplotlib>=1.4.0->pyfolio) (2.4.7)\n",
            "Requirement already satisfied: six in /usr/local/lib/python3.7/dist-packages (from cycler>=0.10->matplotlib>=1.4.0->pyfolio) (1.15.0)\n",
            "Requirement already satisfied: requests>=2.19.0 in /usr/local/lib/python3.7/dist-packages (from pandas-datareader>=0.2->empyrical>=0.5.0->pyfolio) (2.23.0)\n",
            "Requirement already satisfied: lxml in /usr/local/lib/python3.7/dist-packages (from pandas-datareader>=0.2->empyrical>=0.5.0->pyfolio) (4.6.3)\n",
            "Requirement already satisfied: wcwidth in /usr/local/lib/python3.7/dist-packages (from prompt-toolkit<2.0.0,>=1.0.4->ipython>=3.2.3->pyfolio) (0.2.5)\n",
            "Requirement already satisfied: certifi>=2017.4.17 in /usr/local/lib/python3.7/dist-packages (from requests>=2.19.0->pandas-datareader>=0.2->empyrical>=0.5.0->pyfolio) (2021.5.30)\n",
            "Requirement already satisfied: chardet<4,>=3.0.2 in /usr/local/lib/python3.7/dist-packages (from requests>=2.19.0->pandas-datareader>=0.2->empyrical>=0.5.0->pyfolio) (3.0.4)\n",
            "Requirement already satisfied: idna<3,>=2.5 in /usr/local/lib/python3.7/dist-packages (from requests>=2.19.0->pandas-datareader>=0.2->empyrical>=0.5.0->pyfolio) (2.10)\n",
            "Requirement already satisfied: urllib3!=1.25.0,!=1.25.1,<1.26,>=1.21.1 in /usr/local/lib/python3.7/dist-packages (from requests>=2.19.0->pandas-datareader>=0.2->empyrical>=0.5.0->pyfolio) (1.24.3)\n",
            "Requirement already satisfied: joblib>=0.11 in /usr/local/lib/python3.7/dist-packages (from scikit-learn>=0.16.1->pyfolio) (1.0.1)\n",
            "Requirement already satisfied: ipython-genutils in /usr/local/lib/python3.7/dist-packages (from traitlets>=4.2->ipython>=3.2.3->pyfolio) (0.2.0)\n",
            "Requirement already satisfied: ptyprocess>=0.5 in /usr/local/lib/python3.7/dist-packages (from pexpect->ipython>=3.2.3->pyfolio) (0.7.0)\n",
            "Building wheels for collected packages: pyfolio, empyrical\n",
            "  Building wheel for pyfolio (setup.py) ... \u001b[?25l\u001b[?25hdone\n",
            "  Created wheel for pyfolio: filename=pyfolio-0.9.2-py3-none-any.whl size=88682 sha256=8310011047818289741633ae6aedc9eb4f706a76dc0e945e24440ce53391a759\n",
            "  Stored in directory: /root/.cache/pip/wheels/e4/96/9b/0dfff5453e702fd780a099b7c850521099c5ec0dfafae189f9\n",
            "  Building wheel for empyrical (setup.py) ... \u001b[?25l\u001b[?25hdone\n",
            "  Created wheel for empyrical: filename=empyrical-0.5.5-py3-none-any.whl size=39779 sha256=2331e5194e8518c1bcfcb54c36280cf9467a78162d9a1c3759f829c4c08a499e\n",
            "  Stored in directory: /root/.cache/pip/wheels/d9/91/4b/654fcff57477efcf149eaca236da2fce991526cbab431bf312\n",
            "Successfully built pyfolio empyrical\n",
            "Installing collected packages: empyrical, pyfolio\n",
            "Successfully installed empyrical-0.5.5 pyfolio-0.9.2\n"
          ],
          "name": "stdout"
        }
      ]
    },
    {
      "cell_type": "code",
      "metadata": {
        "colab": {
          "base_uri": "https://localhost:8080/"
        },
        "id": "RRJyUTLoGuGg",
        "outputId": "9b53ce73-7e48-4cbd-f304-7486b907447d"
      },
      "source": [
        "import pyfolio as pf"
      ],
      "execution_count": 73,
      "outputs": [
        {
          "output_type": "stream",
          "text": [
            "/usr/local/lib/python3.7/dist-packages/pyfolio/pos.py:27: UserWarning: Module \"zipline.assets\" not found; mutltipliers will not be applied to position notionals.\n",
            "  'Module \"zipline.assets\" not found; mutltipliers will not be applied' +\n"
          ],
          "name": "stderr"
        }
      ]
    },
    {
      "cell_type": "code",
      "metadata": {
        "colab": {
          "base_uri": "https://localhost:8080/",
          "height": 163
        },
        "id": "jLUOHytyH2hQ",
        "outputId": "2ccc5957-5c17-4e39-ea48-8d428e40acc0"
      },
      "source": [
        ""
      ],
      "execution_count": 74,
      "outputs": [
        {
          "output_type": "error",
          "ename": "TypeError",
          "evalue": "ignored",
          "traceback": [
            "\u001b[0;31m---------------------------------------------------------------------------\u001b[0m",
            "\u001b[0;31mTypeError\u001b[0m                                 Traceback (most recent call last)",
            "\u001b[0;32m<ipython-input-74-2e9d0f958e41>\u001b[0m in \u001b[0;36m<module>\u001b[0;34m()\u001b[0m\n\u001b[0;32m----> 1\u001b[0;31m \u001b[0mpf\u001b[0m\u001b[0;34m(\u001b[0m\u001b[0mstock\u001b[0m\u001b[0;34m)\u001b[0m\u001b[0;34m\u001b[0m\u001b[0;34m\u001b[0m\u001b[0m\n\u001b[0m",
            "\u001b[0;31mTypeError\u001b[0m: 'module' object is not callable"
          ]
        }
      ]
    }
  ]
}